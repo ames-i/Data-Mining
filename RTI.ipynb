{
 "cells": [
  {
   "cell_type": "markdown",
   "id": "artificial-officer",
   "metadata": {},
   "source": [
    "# Data Analysis and Prediction of Data for FAFSA completion for graduating seniors.\n",
    "<b>Background:</b>The state of IL passed a bill requiring HS students to complete the FAFSA application in order to obtain their graduation diploma. We have been tracking the FAFSA completion for current seniors. The data set contains demographic information and academic information.\n",
    "<p><b>Objective:</b>Find the feature(s) that predict those that would complete FAFSA, yet, in a practical sense, we need to act upon the group that does not complete FAFSA to promote it or provide more support among the students and the parents. In this sence we would be interested in the “did not complete FAFSA” as the class of highest interest. </p>"
   ]
  },
  {
   "cell_type": "code",
   "execution_count": 263,
   "id": "governmental-championship",
   "metadata": {},
   "outputs": [],
   "source": [
    "#!/usr/bin/env python3\n",
    "import pandas as pd\n",
    "import numpy as np\n",
    "import seaborn as sns\n",
    "import matplotlib.pyplot as plt\n",
    "plt.rc(\"font\", size=14)\n",
    "from sklearn.linear_model import LogisticRegression\n",
    "from sklearn.model_selection import train_test_split\n",
    "sns.set(style=\"white\")\n",
    "sns.set(style=\"whitegrid\", color_codes=True)\n",
    "import warnings \n",
    "warnings.filterwarnings(\"ignore\")"
   ]
  },
  {
   "cell_type": "code",
   "execution_count": 264,
   "id": "novel-agency",
   "metadata": {},
   "outputs": [],
   "source": [
    "#####load files into variables\n",
    "train = pd.read_csv(\"RTI.csv\")\n",
    "test = pd.read_csv(\"RTI copy.csv\")"
   ]
  },
  {
   "cell_type": "code",
   "execution_count": 265,
   "id": "atomic-refund",
   "metadata": {},
   "outputs": [],
   "source": [
    "train_original = train.copy()\n",
    "test_original = test.copy()"
   ]
  },
  {
   "cell_type": "code",
   "execution_count": 266,
   "id": "modular-jones",
   "metadata": {},
   "outputs": [
    {
     "name": "stdout",
     "output_type": "stream",
     "text": [
      "Index(['gender', 'IEP', 'Section 504', 'EL Status', 'Race Ethnicity',\n",
      "       'Fee Waiver', 'GPA Groups', 'cumGPAw', 'AP Course',\n",
      "       'RTI Intervention Note', 'ParentEdLevel', 'DFs', 'ADA', 'MissAssign',\n",
      "       'G12 FAFSA Requirement', 'MTSS Tier ReferenceQ'],\n",
      "      dtype='object')\n",
      "Index(['gender', 'IEP', 'Section 504', 'EL Status', 'Race Ethnicity',\n",
      "       'Fee Waiver', 'GPA Groups', 'cumGPAw', 'AP Course',\n",
      "       'RTI Intervention Note', 'ParentEdLevel', 'DFs', 'ADA', 'MissAssign',\n",
      "       'G12 FAFSA Requirement', 'MTSS Tier ReferenceQ'],\n",
      "      dtype='object')\n"
     ]
    }
   ],
   "source": [
    "print (train.columns) \n",
    "print (test.columns)"
   ]
  },
  {
   "cell_type": "code",
   "execution_count": 267,
   "id": "appropriate-argentina",
   "metadata": {},
   "outputs": [
    {
     "name": "stdout",
     "output_type": "stream",
     "text": [
      "gender                    object\n",
      "IEP                       object\n",
      "Section 504               object\n",
      "EL Status                 object\n",
      "Race Ethnicity            object\n",
      "Fee Waiver                object\n",
      "GPA Groups                object\n",
      "cumGPAw                  float64\n",
      "AP Course                 object\n",
      "RTI Intervention Note     object\n",
      "ParentEdLevel             object\n",
      "DFs                       object\n",
      "ADA                       object\n",
      "MissAssign                object\n",
      "G12 FAFSA Requirement     object\n",
      "MTSS Tier ReferenceQ     float64\n",
      "dtype: object\n"
     ]
    }
   ],
   "source": [
    "print (train.dtypes)"
   ]
  },
  {
   "cell_type": "code",
   "execution_count": 268,
   "id": "thousand-original",
   "metadata": {},
   "outputs": [
    {
     "name": "stdout",
     "output_type": "stream",
     "text": [
      "(3093, 16) (3093, 16)\n"
     ]
    }
   ],
   "source": [
    "print(train.shape, test.shape)"
   ]
  },
  {
   "cell_type": "code",
   "execution_count": 269,
   "id": "norwegian-baseline",
   "metadata": {},
   "outputs": [
    {
     "data": {
      "text/html": [
       "<div>\n",
       "<style scoped>\n",
       "    .dataframe tbody tr th:only-of-type {\n",
       "        vertical-align: middle;\n",
       "    }\n",
       "\n",
       "    .dataframe tbody tr th {\n",
       "        vertical-align: top;\n",
       "    }\n",
       "\n",
       "    .dataframe thead th {\n",
       "        text-align: right;\n",
       "    }\n",
       "</style>\n",
       "<table border=\"1\" class=\"dataframe\">\n",
       "  <thead>\n",
       "    <tr style=\"text-align: right;\">\n",
       "      <th></th>\n",
       "      <th>gender</th>\n",
       "      <th>IEP</th>\n",
       "      <th>Section 504</th>\n",
       "      <th>EL Status</th>\n",
       "      <th>Race Ethnicity</th>\n",
       "      <th>Fee Waiver</th>\n",
       "      <th>GPA Groups</th>\n",
       "      <th>cumGPAw</th>\n",
       "      <th>AP Course</th>\n",
       "      <th>RTI Intervention Note</th>\n",
       "      <th>ParentEdLevel</th>\n",
       "      <th>DFs</th>\n",
       "      <th>ADA</th>\n",
       "      <th>MissAssign</th>\n",
       "      <th>G12 FAFSA Requirement</th>\n",
       "      <th>MTSS Tier ReferenceQ</th>\n",
       "    </tr>\n",
       "  </thead>\n",
       "  <tbody>\n",
       "    <tr>\n",
       "      <th>0</th>\n",
       "      <td>Female</td>\n",
       "      <td>IEP-N</td>\n",
       "      <td>504-N</td>\n",
       "      <td>EL-N</td>\n",
       "      <td>White</td>\n",
       "      <td>N</td>\n",
       "      <td>3.5-3.99</td>\n",
       "      <td>3.59</td>\n",
       "      <td>AP Course Ever- N</td>\n",
       "      <td>RTI Note-None</td>\n",
       "      <td>4 Year College Degree or More</td>\n",
       "      <td>0</td>\n",
       "      <td>100.00%</td>\n",
       "      <td></td>\n",
       "      <td>Waiver</td>\n",
       "      <td>1.0</td>\n",
       "    </tr>\n",
       "    <tr>\n",
       "      <th>1</th>\n",
       "      <td>Female</td>\n",
       "      <td>IEP-N</td>\n",
       "      <td>504-Y</td>\n",
       "      <td>EL-N</td>\n",
       "      <td>White</td>\n",
       "      <td>N</td>\n",
       "      <td>3.5-3.99</td>\n",
       "      <td>3.98</td>\n",
       "      <td>AP Course Ever- Y</td>\n",
       "      <td>RTI Note-None</td>\n",
       "      <td>4 Year College Degree or More</td>\n",
       "      <td>0</td>\n",
       "      <td>98.30%</td>\n",
       "      <td>4</td>\n",
       "      <td>FAFSA Complete</td>\n",
       "      <td>1.0</td>\n",
       "    </tr>\n",
       "    <tr>\n",
       "      <th>2</th>\n",
       "      <td>Male</td>\n",
       "      <td>IEP-Y</td>\n",
       "      <td>504-N</td>\n",
       "      <td>EL-Y</td>\n",
       "      <td>Race 2+</td>\n",
       "      <td>N</td>\n",
       "      <td>2.2.79</td>\n",
       "      <td>2.61</td>\n",
       "      <td>AP Course Ever- N</td>\n",
       "      <td>RTI Note-Current Year</td>\n",
       "      <td>4 Year College Degree or More</td>\n",
       "      <td>3</td>\n",
       "      <td>100.00%</td>\n",
       "      <td>3</td>\n",
       "      <td>FAFSA Complete</td>\n",
       "      <td>2.0</td>\n",
       "    </tr>\n",
       "    <tr>\n",
       "      <th>3</th>\n",
       "      <td>Female</td>\n",
       "      <td>IEP-N</td>\n",
       "      <td>504-N</td>\n",
       "      <td>EL-N</td>\n",
       "      <td>White</td>\n",
       "      <td>N</td>\n",
       "      <td>3.5-3.99</td>\n",
       "      <td>3.58</td>\n",
       "      <td>AP Course Ever- Y</td>\n",
       "      <td>RTI Note-Current Year</td>\n",
       "      <td>4 Year College Degree or More</td>\n",
       "      <td>1</td>\n",
       "      <td>96.70%</td>\n",
       "      <td>1</td>\n",
       "      <td>FAFSA Complete</td>\n",
       "      <td>1.0</td>\n",
       "    </tr>\n",
       "    <tr>\n",
       "      <th>4</th>\n",
       "      <td>Male</td>\n",
       "      <td>IEP-N</td>\n",
       "      <td>504-N</td>\n",
       "      <td>EL-N</td>\n",
       "      <td>White</td>\n",
       "      <td>N</td>\n",
       "      <td>3-3.49</td>\n",
       "      <td>3.14</td>\n",
       "      <td>AP Course Ever- Y</td>\n",
       "      <td>RTI Note-Current Year</td>\n",
       "      <td>4 Year College Degree or More</td>\n",
       "      <td>2</td>\n",
       "      <td>96.70%</td>\n",
       "      <td>3</td>\n",
       "      <td>FAFSA Complete</td>\n",
       "      <td>2.0</td>\n",
       "    </tr>\n",
       "  </tbody>\n",
       "</table>\n",
       "</div>"
      ],
      "text/plain": [
       "   gender    IEP Section 504 EL Status Race Ethnicity Fee Waiver GPA Groups  \\\n",
       "0  Female  IEP-N       504-N      EL-N          White          N   3.5-3.99   \n",
       "1  Female  IEP-N       504-Y      EL-N          White          N   3.5-3.99   \n",
       "2    Male  IEP-Y       504-N      EL-Y        Race 2+          N     2.2.79   \n",
       "3  Female  IEP-N       504-N      EL-N          White          N   3.5-3.99   \n",
       "4    Male  IEP-N       504-N      EL-N          White          N     3-3.49   \n",
       "\n",
       "   cumGPAw          AP Course  RTI Intervention Note  \\\n",
       "0     3.59  AP Course Ever- N          RTI Note-None   \n",
       "1     3.98  AP Course Ever- Y          RTI Note-None   \n",
       "2     2.61  AP Course Ever- N  RTI Note-Current Year   \n",
       "3     3.58  AP Course Ever- Y  RTI Note-Current Year   \n",
       "4     3.14  AP Course Ever- Y  RTI Note-Current Year   \n",
       "\n",
       "                   ParentEdLevel DFs      ADA MissAssign  \\\n",
       "0  4 Year College Degree or More   0  100.00%              \n",
       "1  4 Year College Degree or More   0   98.30%          4   \n",
       "2  4 Year College Degree or More   3  100.00%          3   \n",
       "3  4 Year College Degree or More   1   96.70%          1   \n",
       "4  4 Year College Degree or More   2   96.70%          3   \n",
       "\n",
       "  G12 FAFSA Requirement  MTSS Tier ReferenceQ  \n",
       "0                Waiver                   1.0  \n",
       "1        FAFSA Complete                   1.0  \n",
       "2        FAFSA Complete                   2.0  \n",
       "3        FAFSA Complete                   1.0  \n",
       "4        FAFSA Complete                   2.0  "
      ]
     },
     "execution_count": 269,
     "metadata": {},
     "output_type": "execute_result"
    }
   ],
   "source": [
    "train.head()"
   ]
  },
  {
   "cell_type": "code",
   "execution_count": 270,
   "id": "soviet-listening",
   "metadata": {},
   "outputs": [
    {
     "data": {
      "text/plain": [
       "array(['EL-N', 'EL-Y', 'EL-MY3', 'EL-MY2', 'EL-MY1', 'EL-MY4'],\n",
       "      dtype=object)"
      ]
     },
     "execution_count": 270,
     "metadata": {},
     "output_type": "execute_result"
    }
   ],
   "source": [
    "train['EL Status'].unique()"
   ]
  },
  {
   "cell_type": "code",
   "execution_count": 271,
   "id": "bibliographic-saturn",
   "metadata": {},
   "outputs": [],
   "source": [
    "train['EL Status']=np.where(train['EL Status'] =='EL-MY1', 'EL-Y', train['EL Status'])\n",
    "train['EL Status']=np.where(train['EL Status'] =='EL-MY2', 'EL-Y', train['EL Status'])\n",
    "train['EL Status']=np.where(train['EL Status'] =='EL-MY3', 'EL-Y', train['EL Status'])\n",
    "train['EL Status']=np.where(train['EL Status'] =='EL-MY4', 'EL-Y', train['EL Status'])"
   ]
  },
  {
   "cell_type": "code",
   "execution_count": 272,
   "id": "foreign-carbon",
   "metadata": {},
   "outputs": [
    {
     "data": {
      "text/plain": [
       "array(['EL-N', 'EL-Y'], dtype=object)"
      ]
     },
     "execution_count": 272,
     "metadata": {},
     "output_type": "execute_result"
    }
   ],
   "source": [
    "train['EL Status'].unique()"
   ]
  },
  {
   "cell_type": "code",
   "execution_count": 273,
   "id": "challenging-night",
   "metadata": {},
   "outputs": [
    {
     "data": {
      "text/plain": [
       "FAFSA Complete        1865\n",
       "G12 NONE              1156\n",
       "Waiver                  67\n",
       "FAFSA Comp/ Waiver       5\n",
       "Name: G12 FAFSA Requirement, dtype: int64"
      ]
     },
     "execution_count": 273,
     "metadata": {},
     "output_type": "execute_result"
    }
   ],
   "source": [
    "train['G12 FAFSA Requirement'].value_counts()\n",
    "#This is the target value"
   ]
  },
  {
   "cell_type": "markdown",
   "id": "renewable-bryan",
   "metadata": {},
   "source": [
    "The column has values that are used for tracking the status of the application, some students can waive the completion of FAFSA, \n",
    "we'll treat this as No-Did not complete FAFSA(0). Some completed FAFSA and a waiver(rare) but FAFSA takes priority so, this values will be\n",
    "considered as Yes-completed FAFSA(1), 1, means Yes, 0 means No"
   ]
  },
  {
   "cell_type": "code",
   "execution_count": 274,
   "id": "portable-oxford",
   "metadata": {},
   "outputs": [],
   "source": [
    "train['G12 FAFSA Requirement']=np.where(train['G12 FAFSA Requirement'] =='Waiver', 0, train['G12 FAFSA Requirement'])\n",
    "train['G12 FAFSA Requirement']=np.where(train['G12 FAFSA Requirement'] =='G12 NONE', 0, train['G12 FAFSA Requirement'])\n",
    "train['G12 FAFSA Requirement']=np.where(train['G12 FAFSA Requirement'] =='FAFSA Comp/ Waiver', 1, train['G12 FAFSA Requirement'])\n",
    "train['G12 FAFSA Requirement']=np.where(train['G12 FAFSA Requirement'] =='FAFSA Complete', 1, train['G12 FAFSA Requirement'])"
   ]
  },
  {
   "cell_type": "code",
   "execution_count": 275,
   "id": "regulation-smile",
   "metadata": {},
   "outputs": [
    {
     "name": "stdout",
     "output_type": "stream",
     "text": [
      "gender                    object\n",
      "IEP                       object\n",
      "Section 504               object\n",
      "EL Status                 object\n",
      "Race Ethnicity            object\n",
      "Fee Waiver                object\n",
      "GPA Groups                object\n",
      "cumGPAw                  float64\n",
      "AP Course                 object\n",
      "RTI Intervention Note     object\n",
      "ParentEdLevel             object\n",
      "DFs                       object\n",
      "ADA                       object\n",
      "MissAssign                object\n",
      "G12 FAFSA Requirement     object\n",
      "MTSS Tier ReferenceQ     float64\n",
      "dtype: object\n"
     ]
    },
    {
     "data": {
      "text/plain": [
       "1    1870\n",
       "0    1223\n",
       "Name: G12 FAFSA Requirement, dtype: int64"
      ]
     },
     "execution_count": 275,
     "metadata": {},
     "output_type": "execute_result"
    }
   ],
   "source": [
    "print (train.dtypes)\n",
    "train['G12 FAFSA Requirement'].value_counts()"
   ]
  },
  {
   "cell_type": "code",
   "execution_count": 276,
   "id": "military-courage",
   "metadata": {},
   "outputs": [
    {
     "data": {
      "image/png": "[encoded data removed]",
      "text/plain": [
       "<Figure size 432x288 with 1 Axes>"
      ]
     },
     "metadata": {},
     "output_type": "display_data"
    }
   ],
   "source": [
    "sns.countplot(x='G12 FAFSA Requirement',data=train, palette='hls')\n",
    "plt.show()"
   ]
  },
  {
   "cell_type": "code",
   "execution_count": 277,
   "id": "flush-frame",
   "metadata": {},
   "outputs": [
    {
     "name": "stdout",
     "output_type": "stream",
     "text": [
      "percentage of students without a FAFSA application 39.5408988037504\n",
      "percentage of students with a FAFSA application 60.4591011962496\n"
     ]
    }
   ],
   "source": [
    "count_no_sub = len(train[train['G12 FAFSA Requirement']==0])\n",
    "count_sub = len(train[train['G12 FAFSA Requirement']==1])\n",
    "pct_of_no_sub = count_no_sub/(count_no_sub+count_sub)\n",
    "print(\"percentage of students without a FAFSA application\", pct_of_no_sub*100)\n",
    "pct_of_sub = count_sub/(count_no_sub+count_sub)\n",
    "print(\"percentage of students with a FAFSA application\", pct_of_sub*100)"
   ]
  },
  {
   "cell_type": "code",
   "execution_count": 278,
   "id": "peripheral-dispatch",
   "metadata": {},
   "outputs": [
    {
     "data": {
      "text/html": [
       "<div>\n",
       "<style scoped>\n",
       "    .dataframe tbody tr th:only-of-type {\n",
       "        vertical-align: middle;\n",
       "    }\n",
       "\n",
       "    .dataframe tbody tr th {\n",
       "        vertical-align: top;\n",
       "    }\n",
       "\n",
       "    .dataframe thead th {\n",
       "        text-align: right;\n",
       "    }\n",
       "</style>\n",
       "<table border=\"1\" class=\"dataframe\">\n",
       "  <thead>\n",
       "    <tr style=\"text-align: right;\">\n",
       "      <th></th>\n",
       "      <th>cumGPAw</th>\n",
       "      <th>MTSS Tier ReferenceQ</th>\n",
       "    </tr>\n",
       "    <tr>\n",
       "      <th>G12 FAFSA Requirement</th>\n",
       "      <th></th>\n",
       "      <th></th>\n",
       "    </tr>\n",
       "  </thead>\n",
       "  <tbody>\n",
       "    <tr>\n",
       "      <th>0</th>\n",
       "      <td>2.740796</td>\n",
       "      <td>1.822357</td>\n",
       "    </tr>\n",
       "    <tr>\n",
       "      <th>1</th>\n",
       "      <td>3.573337</td>\n",
       "      <td>1.344602</td>\n",
       "    </tr>\n",
       "  </tbody>\n",
       "</table>\n",
       "</div>"
      ],
      "text/plain": [
       "                        cumGPAw  MTSS Tier ReferenceQ\n",
       "G12 FAFSA Requirement                                \n",
       "0                      2.740796              1.822357\n",
       "1                      3.573337              1.344602"
      ]
     },
     "execution_count": 278,
     "metadata": {},
     "output_type": "execute_result"
    }
   ],
   "source": [
    "train.groupby('G12 FAFSA Requirement').mean()"
   ]
  },
  {
   "cell_type": "code",
   "execution_count": 279,
   "id": "western-accordance",
   "metadata": {},
   "outputs": [
    {
     "data": {
      "text/html": [
       "<div>\n",
       "<style scoped>\n",
       "    .dataframe tbody tr th:only-of-type {\n",
       "        vertical-align: middle;\n",
       "    }\n",
       "\n",
       "    .dataframe tbody tr th {\n",
       "        vertical-align: top;\n",
       "    }\n",
       "\n",
       "    .dataframe thead th {\n",
       "        text-align: right;\n",
       "    }\n",
       "</style>\n",
       "<table border=\"1\" class=\"dataframe\">\n",
       "  <thead>\n",
       "    <tr style=\"text-align: right;\">\n",
       "      <th></th>\n",
       "      <th>MTSS Tier ReferenceQ</th>\n",
       "    </tr>\n",
       "    <tr>\n",
       "      <th>cumGPAw</th>\n",
       "      <th></th>\n",
       "    </tr>\n",
       "  </thead>\n",
       "  <tbody>\n",
       "    <tr>\n",
       "      <th>0.03</th>\n",
       "      <td>3.0</td>\n",
       "    </tr>\n",
       "    <tr>\n",
       "      <th>0.56</th>\n",
       "      <td>1.0</td>\n",
       "    </tr>\n",
       "    <tr>\n",
       "      <th>0.68</th>\n",
       "      <td>1.0</td>\n",
       "    </tr>\n",
       "    <tr>\n",
       "      <th>0.72</th>\n",
       "      <td>3.0</td>\n",
       "    </tr>\n",
       "    <tr>\n",
       "      <th>0.76</th>\n",
       "      <td>1.0</td>\n",
       "    </tr>\n",
       "    <tr>\n",
       "      <th>...</th>\n",
       "      <td>...</td>\n",
       "    </tr>\n",
       "    <tr>\n",
       "      <th>4.69</th>\n",
       "      <td>1.0</td>\n",
       "    </tr>\n",
       "    <tr>\n",
       "      <th>4.70</th>\n",
       "      <td>1.5</td>\n",
       "    </tr>\n",
       "    <tr>\n",
       "      <th>4.72</th>\n",
       "      <td>1.0</td>\n",
       "    </tr>\n",
       "    <tr>\n",
       "      <th>4.73</th>\n",
       "      <td>1.0</td>\n",
       "    </tr>\n",
       "    <tr>\n",
       "      <th>4.76</th>\n",
       "      <td>1.0</td>\n",
       "    </tr>\n",
       "  </tbody>\n",
       "</table>\n",
       "<p>365 rows × 1 columns</p>\n",
       "</div>"
      ],
      "text/plain": [
       "         MTSS Tier ReferenceQ\n",
       "cumGPAw                      \n",
       "0.03                      3.0\n",
       "0.56                      1.0\n",
       "0.68                      1.0\n",
       "0.72                      3.0\n",
       "0.76                      1.0\n",
       "...                       ...\n",
       "4.69                      1.0\n",
       "4.70                      1.5\n",
       "4.72                      1.0\n",
       "4.73                      1.0\n",
       "4.76                      1.0\n",
       "\n",
       "[365 rows x 1 columns]"
      ]
     },
     "execution_count": 279,
     "metadata": {},
     "output_type": "execute_result"
    }
   ],
   "source": [
    "train.groupby('cumGPAw').mean()"
   ]
  },
  {
   "cell_type": "code",
   "execution_count": 280,
   "id": "interior-europe",
   "metadata": {},
   "outputs": [
    {
     "data": {
      "text/plain": [
       "Text(0, 0.5, 'FAFSA completion')"
      ]
     },
     "execution_count": 280,
     "metadata": {},
     "output_type": "execute_result"
    },
    {
     "data": {
      "image/png": "[encoded data removed]",
      "text/plain": [
       "<Figure size 432x288 with 1 Axes>"
      ]
     },
     "metadata": {
      "needs_background": "light"
     },
     "output_type": "display_data"
    }
   ],
   "source": [
    "%matplotlib inline\n",
    "pd.crosstab(train.ParentEdLevel,train['G12 FAFSA Requirement']).plot(kind='bar')\n",
    "plt.title('Parent Education Level / FAFSA completion')\n",
    "plt.xlabel('ParentEdLevel')\n",
    "plt.ylabel('FAFSA completion')"
   ]
  },
  {
   "cell_type": "markdown",
   "id": "foreign-locking",
   "metadata": {},
   "source": [
    "My hypotesis is that the parent education level will affect whether a student would complete FAFSA. We see that those with 4 or more years of college do have a high completion rate, versus those students were the parent has less than HS. This is a good predictor. I think race would also be a good predictor"
   ]
  },
  {
   "cell_type": "code",
   "execution_count": 281,
   "id": "numeric-mongolia",
   "metadata": {},
   "outputs": [
    {
     "data": {
      "image/png": "[encoded data removed]",
      "text/plain": [
       "<Figure size 432x288 with 1 Axes>"
      ]
     },
     "metadata": {
      "needs_background": "light"
     },
     "output_type": "display_data"
    }
   ],
   "source": [
    "table=pd.crosstab(train['Race Ethnicity'],train['G12 FAFSA Requirement'])\n",
    "table.div(table.sum(1).astype(float), axis=0).plot(kind='bar', stacked=True)\n",
    "plt.title('Stacked Bar Chart of Race vs FAFASA completiong')\n",
    "plt.xlabel('Race/Ethnicity')\n",
    "plt.ylabel('FAFSA completion proportion')\n",
    "plt.savefig('race_vs_fafsa_stack')"
   ]
  },
  {
   "cell_type": "markdown",
   "id": "caroline-stanley",
   "metadata": {},
   "source": [
    "Race seems like another good predictor. Let's see if the waiver students(Free or Reduced meals(FRAM)) is a good predictor as well"
   ]
  },
  {
   "cell_type": "code",
   "execution_count": 282,
   "id": "maritime-literature",
   "metadata": {},
   "outputs": [
    {
     "data": {
      "image/png": "[encoded data removed]",
      "text/plain": [
       "<Figure size 432x288 with 1 Axes>"
      ]
     },
     "metadata": {
      "needs_background": "light"
     },
     "output_type": "display_data"
    }
   ],
   "source": [
    "table=pd.crosstab(train['Fee Waiver'],train['G12 FAFSA Requirement'])\n",
    "table.div(table.sum(1).astype(float), axis=0).plot(kind='bar', stacked=True)\n",
    "plt.title('Stacked Bar Chart of FRAM vs FAFSA completion')\n",
    "plt.xlabel('FRAM')\n",
    "plt.ylabel('FAFSA completion proportion')\n",
    "plt.savefig('fram_vs_fafsa_stack')"
   ]
  },
  {
   "cell_type": "markdown",
   "id": "respective-classics",
   "metadata": {},
   "source": [
    "Almost 100% of students in F/R meals have not completed the FAFSA application or will not be completing the application. "
   ]
  },
  {
   "cell_type": "code",
   "execution_count": 283,
   "id": "about-importance",
   "metadata": {},
   "outputs": [
    {
     "data": {
      "image/png": "[encoded data removed]",
      "text/plain": [
       "<Figure size 432x288 with 1 Axes>"
      ]
     },
     "metadata": {
      "needs_background": "light"
     },
     "output_type": "display_data"
    }
   ],
   "source": [
    "table=pd.crosstab(train.gender,train['G12 FAFSA Requirement'])\n",
    "table.div(table.sum(1).astype(float), axis=0).plot(kind='bar', stacked=True)\n",
    "plt.title('Stacked Bar Chart of gender vs FAFASA completion')\n",
    "plt.xlabel('gender')\n",
    "plt.ylabel('FAFSA completion proportion')\n",
    "plt.savefig('gender_vs_fafsa_stack')"
   ]
  },
  {
   "cell_type": "markdown",
   "id": "finished-oakland",
   "metadata": {},
   "source": [
    "Gender does not seem to have a strong impact with FAFSA completion, about the same amount of students- male and female- have completed the application."
   ]
  },
  {
   "cell_type": "code",
   "execution_count": 284,
   "id": "selective-tolerance",
   "metadata": {},
   "outputs": [
    {
     "data": {
      "text/plain": [
       "Text(0, 0.5, 'Quantity')"
      ]
     },
     "execution_count": 284,
     "metadata": {},
     "output_type": "execute_result"
    },
    {
     "data": {
      "image/png": "[encoded data removed]",
      "text/plain": [
       "<Figure size 432x288 with 1 Axes>"
      ]
     },
     "metadata": {
      "needs_background": "light"
     },
     "output_type": "display_data"
    }
   ],
   "source": [
    "train.MissAssign.hist()\n",
    "plt.title('Missing assignments')\n",
    "plt.xlabel('Assignments')\n",
    "plt.ylabel('Quantity')"
   ]
  },
  {
   "cell_type": "code",
   "execution_count": 285,
   "id": "behind-democrat",
   "metadata": {},
   "outputs": [
    {
     "data": {
      "text/plain": [
       "Text(0, 0.5, 'Quantity')"
      ]
     },
     "execution_count": 285,
     "metadata": {},
     "output_type": "execute_result"
    },
    {
     "data": {
      "image/png": "[encoded data removed]",
      "text/plain": [
       "<Figure size 432x288 with 1 Axes>"
      ]
     },
     "metadata": {
      "needs_background": "light"
     },
     "output_type": "display_data"
    }
   ],
   "source": [
    "train.DFs.hist()\n",
    "plt.title('Scores of D/F')\n",
    "plt.xlabel('Scores')\n",
    "plt.ylabel('Quantity')"
   ]
  },
  {
   "cell_type": "markdown",
   "id": "suited-length",
   "metadata": {},
   "source": [
    "The majority of the students don't have scores of D or Fs. We see a left skewed graph. Which is good. "
   ]
  },
  {
   "cell_type": "code",
   "execution_count": 286,
   "id": "tamil-attack",
   "metadata": {},
   "outputs": [
    {
     "data": {
      "text/plain": [
       "array(['Female', 'Male'], dtype=object)"
      ]
     },
     "execution_count": 286,
     "metadata": {},
     "output_type": "execute_result"
    }
   ],
   "source": [
    "train['gender'].unique()"
   ]
  },
  {
   "cell_type": "code",
   "execution_count": 287,
   "id": "sustained-forge",
   "metadata": {},
   "outputs": [],
   "source": [
    "cat_vars=['gender', 'IEP', 'Section 504', 'EL Status', 'Race Ethnicity', 'Fee Waiver', 'GPA Groups', 'cumGPAw', 'AP Course',\n",
    "       'RTI Intervention Note', 'ParentEdLevel', 'DFs', 'ADA', 'MissAssign', 'MTSS Tier ReferenceQ']\n",
    "for var in cat_vars:\n",
    "    cat_list='var'+'_'+var\n",
    "    cat_list = pd.get_dummies(train[var], prefix=var)\n",
    "    train1=train.join(cat_list)\n",
    "    train=train1\n",
    "    \n",
    "cat_vars=['gender', 'IEP', 'Section 504', 'EL Status', 'Race Ethnicity', 'Fee Waiver', 'GPA Groups', 'cumGPAw', 'AP Course',\n",
    "       'RTI Intervention Note', 'ParentEdLevel', 'DFs', 'ADA', 'MissAssign', 'MTSS Tier ReferenceQ']\n",
    "data_vars=train.columns.values.tolist()\n",
    "to_keep=[i for i in data_vars if i not in cat_vars]"
   ]
  },
  {
   "cell_type": "code",
   "execution_count": 288,
   "id": "surprised-calgary",
   "metadata": {},
   "outputs": [
    {
     "data": {
      "text/plain": [
       "array(['G12 FAFSA Requirement', 'gender_Female', 'gender_Male',\n",
       "       'IEP_IEP-N', 'IEP_IEP-Y', 'Section 504_504-N', 'Section 504_504-Y',\n",
       "       'EL Status_EL-N', 'EL Status_EL-Y', 'Race Ethnicity_AIAN',\n",
       "       'Race Ethnicity_Asian', 'Race Ethnicity_Black',\n",
       "       'Race Ethnicity_Hispanic', 'Race Ethnicity_PacIsland',\n",
       "       'Race Ethnicity_Race 2+', 'Race Ethnicity_White', 'Fee Waiver_N',\n",
       "       'Fee Waiver_Y', 'GPA Groups_0-.99', 'GPA Groups_1-1.99',\n",
       "       'GPA Groups_2.2.79', 'GPA Groups_2.8-2.99', 'GPA Groups_3-3.49',\n",
       "       'GPA Groups_3.5-3.99', 'GPA Groups_4+', 'cumGPAw_0.03',\n",
       "       'cumGPAw_0.56', 'cumGPAw_0.68', 'cumGPAw_0.72', 'cumGPAw_0.76',\n",
       "       'cumGPAw_0.81', 'cumGPAw_0.85', 'cumGPAw_0.88', 'cumGPAw_0.95',\n",
       "       'cumGPAw_0.98', 'cumGPAw_1.0', 'cumGPAw_1.03', 'cumGPAw_1.06',\n",
       "       'cumGPAw_1.09', 'cumGPAw_1.1', 'cumGPAw_1.15', 'cumGPAw_1.16',\n",
       "       'cumGPAw_1.17', 'cumGPAw_1.18', 'cumGPAw_1.19', 'cumGPAw_1.2',\n",
       "       'cumGPAw_1.22', 'cumGPAw_1.23', 'cumGPAw_1.24', 'cumGPAw_1.27',\n",
       "       'cumGPAw_1.28', 'cumGPAw_1.29', 'cumGPAw_1.3', 'cumGPAw_1.31',\n",
       "       'cumGPAw_1.32', 'cumGPAw_1.33', 'cumGPAw_1.34', 'cumGPAw_1.35',\n",
       "       'cumGPAw_1.36', 'cumGPAw_1.38', 'cumGPAw_1.39', 'cumGPAw_1.4',\n",
       "       'cumGPAw_1.41', 'cumGPAw_1.43', 'cumGPAw_1.44', 'cumGPAw_1.45',\n",
       "       'cumGPAw_1.46', 'cumGPAw_1.47', 'cumGPAw_1.49', 'cumGPAw_1.5',\n",
       "       'cumGPAw_1.51', 'cumGPAw_1.52', 'cumGPAw_1.53', 'cumGPAw_1.54',\n",
       "       'cumGPAw_1.55', 'cumGPAw_1.57', 'cumGPAw_1.58', 'cumGPAw_1.59',\n",
       "       'cumGPAw_1.6', 'cumGPAw_1.61', 'cumGPAw_1.62', 'cumGPAw_1.64',\n",
       "       'cumGPAw_1.65', 'cumGPAw_1.66', 'cumGPAw_1.67', 'cumGPAw_1.68',\n",
       "       'cumGPAw_1.69', 'cumGPAw_1.7', 'cumGPAw_1.71', 'cumGPAw_1.72',\n",
       "       'cumGPAw_1.73', 'cumGPAw_1.74', 'cumGPAw_1.75', 'cumGPAw_1.76',\n",
       "       'cumGPAw_1.77', 'cumGPAw_1.78', 'cumGPAw_1.79', 'cumGPAw_1.8',\n",
       "       'cumGPAw_1.81', 'cumGPAw_1.82', 'cumGPAw_1.83', 'cumGPAw_1.84',\n",
       "       'cumGPAw_1.85', 'cumGPAw_1.86', 'cumGPAw_1.87', 'cumGPAw_1.88',\n",
       "       'cumGPAw_1.89', 'cumGPAw_1.9', 'cumGPAw_1.91', 'cumGPAw_1.92',\n",
       "       'cumGPAw_1.93', 'cumGPAw_1.94', 'cumGPAw_1.95', 'cumGPAw_1.96',\n",
       "       'cumGPAw_1.97', 'cumGPAw_1.98', 'cumGPAw_2.0', 'cumGPAw_2.01',\n",
       "       'cumGPAw_2.02', 'cumGPAw_2.03', 'cumGPAw_2.04', 'cumGPAw_2.05',\n",
       "       'cumGPAw_2.06', 'cumGPAw_2.07', 'cumGPAw_2.08', 'cumGPAw_2.09',\n",
       "       'cumGPAw_2.1', 'cumGPAw_2.11', 'cumGPAw_2.12', 'cumGPAw_2.13',\n",
       "       'cumGPAw_2.14', 'cumGPAw_2.15', 'cumGPAw_2.16', 'cumGPAw_2.17',\n",
       "       'cumGPAw_2.18', 'cumGPAw_2.19', 'cumGPAw_2.2', 'cumGPAw_2.21',\n",
       "       'cumGPAw_2.22', 'cumGPAw_2.23', 'cumGPAw_2.24', 'cumGPAw_2.25',\n",
       "       'cumGPAw_2.26', 'cumGPAw_2.27', 'cumGPAw_2.28', 'cumGPAw_2.29',\n",
       "       'cumGPAw_2.3', 'cumGPAw_2.31', 'cumGPAw_2.32', 'cumGPAw_2.33',\n",
       "       'cumGPAw_2.34', 'cumGPAw_2.35', 'cumGPAw_2.36', 'cumGPAw_2.37',\n",
       "       'cumGPAw_2.38', 'cumGPAw_2.39', 'cumGPAw_2.4', 'cumGPAw_2.41',\n",
       "       'cumGPAw_2.42', 'cumGPAw_2.43', 'cumGPAw_2.44', 'cumGPAw_2.45',\n",
       "       'cumGPAw_2.46', 'cumGPAw_2.47', 'cumGPAw_2.48', 'cumGPAw_2.49',\n",
       "       'cumGPAw_2.5', 'cumGPAw_2.51', 'cumGPAw_2.52', 'cumGPAw_2.53',\n",
       "       'cumGPAw_2.54', 'cumGPAw_2.55', 'cumGPAw_2.56', 'cumGPAw_2.57',\n",
       "       'cumGPAw_2.58', 'cumGPAw_2.59', 'cumGPAw_2.6', 'cumGPAw_2.61',\n",
       "       'cumGPAw_2.62', 'cumGPAw_2.63', 'cumGPAw_2.64', 'cumGPAw_2.65',\n",
       "       'cumGPAw_2.66', 'cumGPAw_2.67', 'cumGPAw_2.68', 'cumGPAw_2.69',\n",
       "       'cumGPAw_2.7', 'cumGPAw_2.71', 'cumGPAw_2.72', 'cumGPAw_2.73',\n",
       "       'cumGPAw_2.74', 'cumGPAw_2.75', 'cumGPAw_2.76', 'cumGPAw_2.77',\n",
       "       'cumGPAw_2.78', 'cumGPAw_2.79', 'cumGPAw_2.8', 'cumGPAw_2.81',\n",
       "       'cumGPAw_2.82', 'cumGPAw_2.83', 'cumGPAw_2.84', 'cumGPAw_2.85',\n",
       "       'cumGPAw_2.86', 'cumGPAw_2.87', 'cumGPAw_2.88', 'cumGPAw_2.89',\n",
       "       'cumGPAw_2.9', 'cumGPAw_2.91', 'cumGPAw_2.92', 'cumGPAw_2.93',\n",
       "       'cumGPAw_2.94', 'cumGPAw_2.95', 'cumGPAw_2.96', 'cumGPAw_2.97',\n",
       "       'cumGPAw_2.98', 'cumGPAw_2.99', 'cumGPAw_3.0', 'cumGPAw_3.01',\n",
       "       'cumGPAw_3.02', 'cumGPAw_3.03', 'cumGPAw_3.04', 'cumGPAw_3.05',\n",
       "       'cumGPAw_3.06', 'cumGPAw_3.07', 'cumGPAw_3.08', 'cumGPAw_3.09',\n",
       "       'cumGPAw_3.1', 'cumGPAw_3.11', 'cumGPAw_3.12', 'cumGPAw_3.13',\n",
       "       'cumGPAw_3.14', 'cumGPAw_3.15', 'cumGPAw_3.16', 'cumGPAw_3.17',\n",
       "       'cumGPAw_3.18', 'cumGPAw_3.19', 'cumGPAw_3.2', 'cumGPAw_3.21',\n",
       "       'cumGPAw_3.22', 'cumGPAw_3.23', 'cumGPAw_3.24', 'cumGPAw_3.25',\n",
       "       'cumGPAw_3.26', 'cumGPAw_3.27', 'cumGPAw_3.28', 'cumGPAw_3.29',\n",
       "       'cumGPAw_3.3', 'cumGPAw_3.31', 'cumGPAw_3.32', 'cumGPAw_3.33',\n",
       "       'cumGPAw_3.34', 'cumGPAw_3.35', 'cumGPAw_3.36', 'cumGPAw_3.37',\n",
       "       'cumGPAw_3.38', 'cumGPAw_3.39', 'cumGPAw_3.4', 'cumGPAw_3.41',\n",
       "       'cumGPAw_3.42', 'cumGPAw_3.43', 'cumGPAw_3.44', 'cumGPAw_3.45',\n",
       "       'cumGPAw_3.46', 'cumGPAw_3.47', 'cumGPAw_3.48', 'cumGPAw_3.49',\n",
       "       'cumGPAw_3.5', 'cumGPAw_3.51', 'cumGPAw_3.52', 'cumGPAw_3.53',\n",
       "       'cumGPAw_3.54', 'cumGPAw_3.55', 'cumGPAw_3.56', 'cumGPAw_3.57',\n",
       "       'cumGPAw_3.58', 'cumGPAw_3.59', 'cumGPAw_3.6', 'cumGPAw_3.61',\n",
       "       'cumGPAw_3.62', 'cumGPAw_3.63', 'cumGPAw_3.64', 'cumGPAw_3.65',\n",
       "       'cumGPAw_3.66', 'cumGPAw_3.67', 'cumGPAw_3.68', 'cumGPAw_3.69',\n",
       "       'cumGPAw_3.7', 'cumGPAw_3.71', 'cumGPAw_3.72', 'cumGPAw_3.73',\n",
       "       'cumGPAw_3.74', 'cumGPAw_3.75', 'cumGPAw_3.76', 'cumGPAw_3.77',\n",
       "       'cumGPAw_3.78', 'cumGPAw_3.79', 'cumGPAw_3.8', 'cumGPAw_3.81',\n",
       "       'cumGPAw_3.82', 'cumGPAw_3.83', 'cumGPAw_3.84', 'cumGPAw_3.85',\n",
       "       'cumGPAw_3.86', 'cumGPAw_3.87', 'cumGPAw_3.88', 'cumGPAw_3.89',\n",
       "       'cumGPAw_3.9', 'cumGPAw_3.91', 'cumGPAw_3.92', 'cumGPAw_3.93',\n",
       "       'cumGPAw_3.94', 'cumGPAw_3.95', 'cumGPAw_3.96', 'cumGPAw_3.97',\n",
       "       'cumGPAw_3.98', 'cumGPAw_3.99', 'cumGPAw_4.0', 'cumGPAw_4.01',\n",
       "       'cumGPAw_4.02', 'cumGPAw_4.03', 'cumGPAw_4.04', 'cumGPAw_4.05',\n",
       "       'cumGPAw_4.06', 'cumGPAw_4.07', 'cumGPAw_4.08', 'cumGPAw_4.09',\n",
       "       'cumGPAw_4.1', 'cumGPAw_4.11', 'cumGPAw_4.12', 'cumGPAw_4.13',\n",
       "       'cumGPAw_4.14', 'cumGPAw_4.15', 'cumGPAw_4.16', 'cumGPAw_4.17',\n",
       "       'cumGPAw_4.18', 'cumGPAw_4.19', 'cumGPAw_4.2', 'cumGPAw_4.21',\n",
       "       'cumGPAw_4.22', 'cumGPAw_4.23', 'cumGPAw_4.24', 'cumGPAw_4.25',\n",
       "       'cumGPAw_4.26', 'cumGPAw_4.27', 'cumGPAw_4.28', 'cumGPAw_4.29',\n",
       "       'cumGPAw_4.3', 'cumGPAw_4.31', 'cumGPAw_4.32', 'cumGPAw_4.33',\n",
       "       'cumGPAw_4.34', 'cumGPAw_4.35', 'cumGPAw_4.36', 'cumGPAw_4.37',\n",
       "       'cumGPAw_4.38', 'cumGPAw_4.39', 'cumGPAw_4.4', 'cumGPAw_4.41',\n",
       "       'cumGPAw_4.42', 'cumGPAw_4.43', 'cumGPAw_4.44', 'cumGPAw_4.45',\n",
       "       'cumGPAw_4.46', 'cumGPAw_4.47', 'cumGPAw_4.48', 'cumGPAw_4.49',\n",
       "       'cumGPAw_4.5', 'cumGPAw_4.51', 'cumGPAw_4.52', 'cumGPAw_4.53',\n",
       "       'cumGPAw_4.54', 'cumGPAw_4.55', 'cumGPAw_4.56', 'cumGPAw_4.57',\n",
       "       'cumGPAw_4.58', 'cumGPAw_4.59', 'cumGPAw_4.6', 'cumGPAw_4.61',\n",
       "       'cumGPAw_4.62', 'cumGPAw_4.63', 'cumGPAw_4.64', 'cumGPAw_4.65',\n",
       "       'cumGPAw_4.66', 'cumGPAw_4.67', 'cumGPAw_4.68', 'cumGPAw_4.69',\n",
       "       'cumGPAw_4.7', 'cumGPAw_4.72', 'cumGPAw_4.73', 'cumGPAw_4.76',\n",
       "       'AP Course_AP Course Ever- N', 'AP Course_AP Course Ever- Y',\n",
       "       'RTI Intervention Note_RTI Note-Current Year',\n",
       "       'RTI Intervention Note_RTI Note-None',\n",
       "       'RTI Intervention Note_RTI Note-Prior Years Only',\n",
       "       'ParentEdLevel_2 Year College Degree',\n",
       "       'ParentEdLevel_4 Year College Degree or More',\n",
       "       'ParentEdLevel_H.S. Diploma',\n",
       "       'ParentEdLevel_Less Than High School', 'ParentEdLevel_Unknown',\n",
       "       'DFs_ ', 'DFs_0', 'DFs_1', 'DFs_2', 'DFs_3', 'DFs_4', 'DFs_5',\n",
       "       'DFs_6', 'DFs_7', 'DFs_8', 'ADA_0.00%', 'ADA_1.70%', 'ADA_10.00%',\n",
       "       'ADA_100.00%', 'ADA_11.70%', 'ADA_13.30%', 'ADA_15.00%',\n",
       "       'ADA_16.70%', 'ADA_17.90%', 'ADA_18.30%', 'ADA_2.60%',\n",
       "       'ADA_20.00%', 'ADA_21.70%', 'ADA_23.30%', 'ADA_25.00%',\n",
       "       'ADA_26.70%', 'ADA_28.30%', 'ADA_3.30%', 'ADA_3.80%', 'ADA_30.00%',\n",
       "       'ADA_31.70%', 'ADA_33.30%', 'ADA_35.00%', 'ADA_35.70%',\n",
       "       'ADA_36.70%', 'ADA_38.30%', 'ADA_39.70%', 'ADA_40.00%',\n",
       "       'ADA_41.70%', 'ADA_43.30%', 'ADA_45.00%', 'ADA_46.70%',\n",
       "       'ADA_47.70%', 'ADA_48.30%', 'ADA_5.00%', 'ADA_50.00%',\n",
       "       'ADA_51.70%', 'ADA_53.30%', 'ADA_55.00%', 'ADA_56.70%',\n",
       "       'ADA_58.30%', 'ADA_60.00%', 'ADA_60.50%', 'ADA_61.70%',\n",
       "       'ADA_63.30%', 'ADA_65.00%', 'ADA_65.40%', 'ADA_66.70%',\n",
       "       'ADA_68.30%', 'ADA_70.00%', 'ADA_71.70%', 'ADA_73.30%',\n",
       "       'ADA_75.00%', 'ADA_76.70%', 'ADA_77.80%', 'ADA_78.30%',\n",
       "       'ADA_8.30%', 'ADA_80.00%', 'ADA_80.80%', 'ADA_81.70%',\n",
       "       'ADA_83.30%', 'ADA_85.00%', 'ADA_86.70%', 'ADA_88.30%',\n",
       "       'ADA_90.00%', 'ADA_91.70%', 'ADA_93.30%', 'ADA_94.00%',\n",
       "       'ADA_95.00%', 'ADA_96.70%', 'ADA_98.30%', 'MissAssign_ ',\n",
       "       'MissAssign_1', 'MissAssign_10', 'MissAssign_11', 'MissAssign_12',\n",
       "       'MissAssign_13', 'MissAssign_14', 'MissAssign_15', 'MissAssign_16',\n",
       "       'MissAssign_17', 'MissAssign_18', 'MissAssign_19', 'MissAssign_2',\n",
       "       'MissAssign_20', 'MissAssign_21', 'MissAssign_22', 'MissAssign_23',\n",
       "       'MissAssign_24', 'MissAssign_25', 'MissAssign_26', 'MissAssign_27',\n",
       "       'MissAssign_28', 'MissAssign_29', 'MissAssign_3', 'MissAssign_30',\n",
       "       'MissAssign_31', 'MissAssign_32', 'MissAssign_33', 'MissAssign_34',\n",
       "       'MissAssign_35', 'MissAssign_36', 'MissAssign_37', 'MissAssign_38',\n",
       "       'MissAssign_39', 'MissAssign_4', 'MissAssign_41', 'MissAssign_42',\n",
       "       'MissAssign_44', 'MissAssign_45', 'MissAssign_49', 'MissAssign_5',\n",
       "       'MissAssign_6', 'MissAssign_7', 'MissAssign_8', 'MissAssign_9',\n",
       "       'MTSS Tier ReferenceQ_1.0', 'MTSS Tier ReferenceQ_2.0',\n",
       "       'MTSS Tier ReferenceQ_3.0'], dtype=object)"
      ]
     },
     "execution_count": 288,
     "metadata": {},
     "output_type": "execute_result"
    }
   ],
   "source": [
    "data_final=train[to_keep]\n",
    "data_final.columns.values"
   ]
  },
  {
   "cell_type": "code",
   "execution_count": 289,
   "id": "running-business",
   "metadata": {},
   "outputs": [],
   "source": [
    "X = data_final.loc[:, data_final.columns != 'G12 FAFSA Requirement' ]\n",
    "y = data_final.loc[:, data_final.columns == 'G12 FAFSA Requirement' ]\n"
   ]
  },
  {
   "cell_type": "code",
   "execution_count": 293,
   "id": "binary-liabilities",
   "metadata": {},
   "outputs": [
    {
     "name": "stdout",
     "output_type": "stream",
     "text": [
      "      gender_Female  gender_Male  IEP_IEP-N  IEP_IEP-Y  Section 504_504-N  \\\n",
      "1817              1            0          0          1                  1   \n",
      "1939              1            0          1          0                  1   \n",
      "1061              0            1          1          0                  0   \n",
      "528               1            0          1          0                  1   \n",
      "232               1            0          1          0                  1   \n",
      "...             ...          ...        ...        ...                ...   \n",
      "763               0            1          1          0                  1   \n",
      "835               0            1          1          0                  1   \n",
      "1653              0            1          1          0                  1   \n",
      "2607              1            0          1          0                  1   \n",
      "2732              0            1          0          1                  1   \n",
      "\n",
      "      Section 504_504-Y  EL Status_EL-N  EL Status_EL-Y  Race Ethnicity_AIAN  \\\n",
      "1817                  0               1               0                    0   \n",
      "1939                  0               1               0                    0   \n",
      "1061                  1               1               0                    0   \n",
      "528                   0               1               0                    0   \n",
      "232                   0               1               0                    0   \n",
      "...                 ...             ...             ...                  ...   \n",
      "763                   0               0               1                    0   \n",
      "835                   0               1               0                    0   \n",
      "1653                  0               1               0                    0   \n",
      "2607                  0               1               0                    0   \n",
      "2732                  0               1               0                    0   \n",
      "\n",
      "      Race Ethnicity_Asian  ...  MissAssign_45  MissAssign_49  MissAssign_5  \\\n",
      "1817                     0  ...              0              0             0   \n",
      "1939                     0  ...              0              0             0   \n",
      "1061                     0  ...              0              0             0   \n",
      "528                      0  ...              0              0             0   \n",
      "232                      0  ...              0              0             0   \n",
      "...                    ...  ...            ...            ...           ...   \n",
      "763                      0  ...              0              0             0   \n",
      "835                      0  ...              0              0             0   \n",
      "1653                     0  ...              0              0             0   \n",
      "2607                     0  ...              0              0             0   \n",
      "2732                     0  ...              0              0             0   \n",
      "\n",
      "      MissAssign_6  MissAssign_7  MissAssign_8  MissAssign_9  \\\n",
      "1817             0             0             0             0   \n",
      "1939             0             0             0             0   \n",
      "1061             0             0             0             0   \n",
      "528              0             0             0             0   \n",
      "232              0             0             0             0   \n",
      "...            ...           ...           ...           ...   \n",
      "763              0             0             0             0   \n",
      "835              0             0             0             0   \n",
      "1653             0             0             0             0   \n",
      "2607             0             0             0             0   \n",
      "2732             0             0             0             0   \n",
      "\n",
      "      MTSS Tier ReferenceQ_1.0  MTSS Tier ReferenceQ_2.0  \\\n",
      "1817                         1                         0   \n",
      "1939                         1                         0   \n",
      "1061                         1                         0   \n",
      "528                          1                         0   \n",
      "232                          1                         0   \n",
      "...                        ...                       ...   \n",
      "763                          0                         0   \n",
      "835                          1                         0   \n",
      "1653                         0                         0   \n",
      "2607                         1                         0   \n",
      "2732                         1                         0   \n",
      "\n",
      "      MTSS Tier ReferenceQ_3.0  \n",
      "1817                         0  \n",
      "1939                         0  \n",
      "1061                         0  \n",
      "528                          0  \n",
      "232                          0  \n",
      "...                        ...  \n",
      "763                          1  \n",
      "835                          0  \n",
      "1653                         1  \n",
      "2607                         0  \n",
      "2732                         0  \n",
      "\n",
      "[2165 rows x 528 columns]\n",
      "      gender_Female  gender_Male  IEP_IEP-N  IEP_IEP-Y  Section 504_504-N  \\\n",
      "2305              0            1          1          0                  0   \n",
      "1114              0            1          1          0                  1   \n",
      "2593              1            0          1          0                  1   \n",
      "989               0            1          1          0                  1   \n",
      "678               1            0          1          0                  1   \n",
      "...             ...          ...        ...        ...                ...   \n",
      "1256              0            1          1          0                  1   \n",
      "357               1            0          0          1                  1   \n",
      "2714              1            0          1          0                  0   \n",
      "1042              0            1          1          0                  1   \n",
      "2016              1            0          1          0                  1   \n",
      "\n",
      "      Section 504_504-Y  EL Status_EL-N  EL Status_EL-Y  Race Ethnicity_AIAN  \\\n",
      "2305                  1               1               0                    0   \n",
      "1114                  0               1               0                    0   \n",
      "2593                  0               1               0                    0   \n",
      "989                   0               1               0                    0   \n",
      "678                   0               0               1                    0   \n",
      "...                 ...             ...             ...                  ...   \n",
      "1256                  0               1               0                    0   \n",
      "357                   0               1               0                    0   \n",
      "2714                  1               1               0                    0   \n",
      "1042                  0               1               0                    0   \n",
      "2016                  0               1               0                    0   \n",
      "\n",
      "      Race Ethnicity_Asian  ...  MissAssign_45  MissAssign_49  MissAssign_5  \\\n",
      "2305                     0  ...              0              0             0   \n",
      "1114                     0  ...              0              0             0   \n",
      "2593                     0  ...              0              0             0   \n",
      "989                      0  ...              0              0             0   \n",
      "678                      0  ...              0              0             0   \n",
      "...                    ...  ...            ...            ...           ...   \n",
      "1256                     0  ...              0              0             0   \n",
      "357                      0  ...              0              0             0   \n",
      "2714                     0  ...              0              0             0   \n",
      "1042                     0  ...              0              0             0   \n",
      "2016                     0  ...              0              0             0   \n",
      "\n",
      "      MissAssign_6  MissAssign_7  MissAssign_8  MissAssign_9  \\\n",
      "2305             0             0             0             0   \n",
      "1114             0             0             0             0   \n",
      "2593             0             0             0             0   \n",
      "989              0             0             0             0   \n",
      "678              0             0             0             0   \n",
      "...            ...           ...           ...           ...   \n",
      "1256             0             0             0             0   \n",
      "357              0             0             0             0   \n",
      "2714             0             0             0             0   \n",
      "1042             0             0             0             0   \n",
      "2016             0             0             0             0   \n",
      "\n",
      "      MTSS Tier ReferenceQ_1.0  MTSS Tier ReferenceQ_2.0  \\\n",
      "2305                         1                         0   \n",
      "1114                         0                         1   \n",
      "2593                         0                         0   \n",
      "989                          0                         0   \n",
      "678                          1                         0   \n",
      "...                        ...                       ...   \n",
      "1256                         1                         0   \n",
      "357                          1                         0   \n",
      "2714                         1                         0   \n",
      "1042                         1                         0   \n",
      "2016                         0                         1   \n",
      "\n",
      "      MTSS Tier ReferenceQ_3.0  \n",
      "2305                         0  \n",
      "1114                         0  \n",
      "2593                         1  \n",
      "989                          1  \n",
      "678                          0  \n",
      "...                        ...  \n",
      "1256                         0  \n",
      "357                          0  \n",
      "2714                         0  \n",
      "1042                         0  \n",
      "2016                         0  \n",
      "\n",
      "[928 rows x 528 columns]\n"
     ]
    }
   ],
   "source": [
    "X_train, X_test, y_train, y_test = train_test_split(X, y, test_size=0.3, random_state=0)\n",
    "columns = X_train.columns\n",
    "print(X_train)\n",
    "print (X_test)"
   ]
  },
  {
   "cell_type": "markdown",
   "id": "crucial-liverpool",
   "metadata": {},
   "source": [
    "Ran into errors on the block below, so I installed imblearn\n",
    "</br>pip3 install imblearn\n",
    "pip install scikit-learn==0.23.1\n",
    "pip install imbalanced-learn==0.7.0\n",
    "pip install --upgrade scikit-learn"
   ]
  },
  {
   "cell_type": "code",
   "execution_count": 291,
   "id": "durable-snowboard",
   "metadata": {},
   "outputs": [
    {
     "ename": "ValueError",
     "evalue": "Unknown label type: 'unknown'",
     "output_type": "error",
     "traceback": [
      "\u001b[0;31m---------------------------------------------------------------------------\u001b[0m",
      "\u001b[0;31mValueError\u001b[0m                                Traceback (most recent call last)",
      "\u001b[0;32m<ipython-input-291-19db29779144>\u001b[0m in \u001b[0;36m<module>\u001b[0;34m\u001b[0m\n\u001b[1;32m      3\u001b[0m \u001b[0mX_train\u001b[0m\u001b[0;34m,\u001b[0m \u001b[0mX_test\u001b[0m\u001b[0;34m,\u001b[0m \u001b[0my_train\u001b[0m\u001b[0;34m,\u001b[0m \u001b[0my_test\u001b[0m \u001b[0;34m=\u001b[0m \u001b[0mtrain_test_split\u001b[0m\u001b[0;34m(\u001b[0m\u001b[0mX\u001b[0m\u001b[0;34m,\u001b[0m \u001b[0my\u001b[0m\u001b[0;34m,\u001b[0m \u001b[0mtest_size\u001b[0m\u001b[0;34m=\u001b[0m\u001b[0;36m0.3\u001b[0m\u001b[0;34m,\u001b[0m \u001b[0mrandom_state\u001b[0m\u001b[0;34m=\u001b[0m\u001b[0;36m0\u001b[0m\u001b[0;34m)\u001b[0m\u001b[0;34m\u001b[0m\u001b[0;34m\u001b[0m\u001b[0m\n\u001b[1;32m      4\u001b[0m \u001b[0mcolumns\u001b[0m \u001b[0;34m=\u001b[0m \u001b[0mX_train\u001b[0m\u001b[0;34m.\u001b[0m\u001b[0mcolumns\u001b[0m\u001b[0;34m\u001b[0m\u001b[0;34m\u001b[0m\u001b[0m\n\u001b[0;32m----> 5\u001b[0;31m \u001b[0mos_data_X\u001b[0m\u001b[0;34m,\u001b[0m\u001b[0mos_data_y\u001b[0m\u001b[0;34m=\u001b[0m\u001b[0mos\u001b[0m\u001b[0;34m.\u001b[0m\u001b[0mfit_sample\u001b[0m\u001b[0;34m(\u001b[0m\u001b[0mX_train\u001b[0m\u001b[0;34m,\u001b[0m \u001b[0my_train\u001b[0m\u001b[0;34m)\u001b[0m\u001b[0;34m\u001b[0m\u001b[0;34m\u001b[0m\u001b[0m\n\u001b[0m\u001b[1;32m      6\u001b[0m \u001b[0mos_data_X\u001b[0m \u001b[0;34m=\u001b[0m \u001b[0mpd\u001b[0m\u001b[0;34m.\u001b[0m\u001b[0mDataFrame\u001b[0m\u001b[0;34m(\u001b[0m\u001b[0mdata\u001b[0m\u001b[0;34m=\u001b[0m\u001b[0mos_data_X\u001b[0m\u001b[0;34m,\u001b[0m\u001b[0mcolumns\u001b[0m\u001b[0;34m=\u001b[0m\u001b[0mcolumns\u001b[0m \u001b[0;34m)\u001b[0m\u001b[0;34m\u001b[0m\u001b[0;34m\u001b[0m\u001b[0m\n\u001b[1;32m      7\u001b[0m \u001b[0mos_data_y\u001b[0m\u001b[0;34m=\u001b[0m \u001b[0mpd\u001b[0m\u001b[0;34m.\u001b[0m\u001b[0mDataFrame\u001b[0m\u001b[0;34m(\u001b[0m\u001b[0mdata\u001b[0m\u001b[0;34m=\u001b[0m\u001b[0mos_data_y\u001b[0m\u001b[0;34m,\u001b[0m\u001b[0mcolumns\u001b[0m\u001b[0;34m=\u001b[0m\u001b[0;34m[\u001b[0m\u001b[0;34m'G12 FAFSA Requirement'\u001b[0m\u001b[0;34m]\u001b[0m\u001b[0;34m)\u001b[0m\u001b[0;34m\u001b[0m\u001b[0;34m\u001b[0m\u001b[0m\n",
      "\u001b[0;32m/Library/Frameworks/Python.framework/Versions/3.9/lib/python3.9/site-packages/imblearn/base.py\u001b[0m in \u001b[0;36mfit_resample\u001b[0;34m(self, X, y)\u001b[0m\n\u001b[1;32m     73\u001b[0m             \u001b[0mThe\u001b[0m \u001b[0mcorresponding\u001b[0m \u001b[0mlabel\u001b[0m \u001b[0mof\u001b[0m\u001b[0;31m \u001b[0m\u001b[0;31m`\u001b[0m\u001b[0mX_resampled\u001b[0m\u001b[0;31m`\u001b[0m\u001b[0;34m.\u001b[0m\u001b[0;34m\u001b[0m\u001b[0;34m\u001b[0m\u001b[0m\n\u001b[1;32m     74\u001b[0m         \"\"\"\n\u001b[0;32m---> 75\u001b[0;31m         \u001b[0mcheck_classification_targets\u001b[0m\u001b[0;34m(\u001b[0m\u001b[0my\u001b[0m\u001b[0;34m)\u001b[0m\u001b[0;34m\u001b[0m\u001b[0;34m\u001b[0m\u001b[0m\n\u001b[0m\u001b[1;32m     76\u001b[0m         \u001b[0marrays_transformer\u001b[0m \u001b[0;34m=\u001b[0m \u001b[0mArraysTransformer\u001b[0m\u001b[0;34m(\u001b[0m\u001b[0mX\u001b[0m\u001b[0;34m,\u001b[0m \u001b[0my\u001b[0m\u001b[0;34m)\u001b[0m\u001b[0;34m\u001b[0m\u001b[0;34m\u001b[0m\u001b[0m\n\u001b[1;32m     77\u001b[0m         \u001b[0mX\u001b[0m\u001b[0;34m,\u001b[0m \u001b[0my\u001b[0m\u001b[0;34m,\u001b[0m \u001b[0mbinarize_y\u001b[0m \u001b[0;34m=\u001b[0m \u001b[0mself\u001b[0m\u001b[0;34m.\u001b[0m\u001b[0m_check_X_y\u001b[0m\u001b[0;34m(\u001b[0m\u001b[0mX\u001b[0m\u001b[0;34m,\u001b[0m \u001b[0my\u001b[0m\u001b[0;34m)\u001b[0m\u001b[0;34m\u001b[0m\u001b[0;34m\u001b[0m\u001b[0m\n",
      "\u001b[0;32m/Library/Frameworks/Python.framework/Versions/3.9/lib/python3.9/site-packages/sklearn/utils/multiclass.py\u001b[0m in \u001b[0;36mcheck_classification_targets\u001b[0;34m(y)\u001b[0m\n\u001b[1;32m    181\u001b[0m     if y_type not in ['binary', 'multiclass', 'multiclass-multioutput',\n\u001b[1;32m    182\u001b[0m                       'multilabel-indicator', 'multilabel-sequences']:\n\u001b[0;32m--> 183\u001b[0;31m         \u001b[0;32mraise\u001b[0m \u001b[0mValueError\u001b[0m\u001b[0;34m(\u001b[0m\u001b[0;34m\"Unknown label type: %r\"\u001b[0m \u001b[0;34m%\u001b[0m \u001b[0my_type\u001b[0m\u001b[0;34m)\u001b[0m\u001b[0;34m\u001b[0m\u001b[0;34m\u001b[0m\u001b[0m\n\u001b[0m\u001b[1;32m    184\u001b[0m \u001b[0;34m\u001b[0m\u001b[0m\n\u001b[1;32m    185\u001b[0m \u001b[0;34m\u001b[0m\u001b[0m\n",
      "\u001b[0;31mValueError\u001b[0m: Unknown label type: 'unknown'"
     ]
    }
   ],
   "source": [
    "from imblearn.over_sampling import SMOTE\n",
    "os = SMOTE(random_state=0)\n",
    "X_train, X_test, y_train, y_test = train_test_split(X, y, test_size=0.3, random_state=0)\n",
    "columns = X_train.columns\n",
    "os_data_X,os_data_y=os.fit_sample(X_train, y_train)\n",
    "os_data_X = pd.DataFrame(data=os_data_X,columns=columns )\n",
    "os_data_y= pd.DataFrame(data=os_data_y,columns=['G12 FAFSA Requirement'])\n",
    "# we can Check the numbers of our data\n",
    "print(\"length of oversampled data is \",len(os_data_X))\n",
    "print(\"Number of FAFSA incompletion in oversampled data \",len(os_data_y[os_data_y['G12 FAFSA Requirement']==0]))\n",
    "print(\"Number of FAFSA completion \",len(os_data_y[os_data_y['G12 FAFSA Requirement']==1]))\n",
    "print(\"Proportion of FAFSA incompletion data in oversampled data is \",len(os_data_y[os_data_y['G12 FAFSA Requirement']==0])/len(os_data_X))\n",
    "print(\"Proportion of FAFSA completion data in oversampled data is \",len(os_data_y[os_data_y['G12 FAFSA Requirement']==1])/len(os_data_X))"
   ]
  },
  {
   "cell_type": "code",
   "execution_count": null,
   "id": "reported-negative",
   "metadata": {},
   "outputs": [],
   "source": [
    "data_final_vars=data_final.columns.values.tolist()\n",
    "y=['G12 FAFSA Requirement']\n",
    "X=[i for i in data_final_vars if i not in y]\n",
    "from sklearn.feature_selection import RFE\n",
    "from sklearn.linear_model import LogisticRegression\n",
    "logreg = LogisticRegression()\n",
    "rfe = RFE(logreg, 20)\n",
    "rfe = rfe.fit(os_data_X, os_data_y.values.ravel())\n",
    "print(rfe.support_)\n",
    "print(rfe.ranking_)"
   ]
  },
  {
   "cell_type": "code",
   "execution_count": null,
   "id": "forty-narrow",
   "metadata": {},
   "outputs": [],
   "source": [
    "cols=['euribor3m', 'job_blue-collar', 'job_housemaid', 'marital_unknown', 'education_illiterate', 'default_no', 'default_unknown', \n",
    "      'contact_cellular', 'contact_telephone', 'month_apr', 'month_aug', 'month_dec', 'month_jul', 'month_jun', 'month_mar', \n",
    "      'month_may', 'month_nov', 'month_oct', \"poutcome_failure\", \"poutcome_success\"] \n",
    "X=os_data_X[cols]\n",
    "y=os_data_y['y']"
   ]
  },
  {
   "cell_type": "code",
   "execution_count": null,
   "id": "occasional-triple",
   "metadata": {},
   "outputs": [],
   "source": [
    "import statsmodels.api as sm\n",
    "logit_model=sm.Logit(y,X)\n",
    "result=logit_model.fit()\n",
    "print(result.summary2())"
   ]
  },
  {
   "cell_type": "code",
   "execution_count": null,
   "id": "premium-academy",
   "metadata": {},
   "outputs": [],
   "source": [
    "cols=['euribor3m', 'job_blue-collar', 'job_housemaid', 'marital_unknown', 'education_illiterate', \n",
    "      'month_apr', 'month_aug', 'month_dec', 'month_jul', 'month_jun', 'month_mar', \n",
    "      'month_may', 'month_nov', 'month_oct', \"poutcome_failure\", \"poutcome_success\"] \n",
    "X=os_data_X[cols]\n",
    "y=os_data_y['y']\n",
    "logit_model=sm.Logit(y,X)\n",
    "result=logit_model.fit()\n",
    "print(result.summary2())"
   ]
  },
  {
   "cell_type": "markdown",
   "id": "preceding-grain",
   "metadata": {},
   "source": [
    "### Logistic Regression Model Fitting"
   ]
  },
  {
   "cell_type": "code",
   "execution_count": null,
   "id": "prescription-wrist",
   "metadata": {},
   "outputs": [],
   "source": [
    "from sklearn.linear_model import LogisticRegression\n",
    "from sklearn import metrics\n",
    "X_train, X_test, y_train, y_test = train_test_split(X, y, test_size=0.3, random_state=0)\n",
    "logreg = LogisticRegression()\n",
    "logreg.fit(X_train, y_train)"
   ]
  },
  {
   "cell_type": "code",
   "execution_count": null,
   "id": "physical-warehouse",
   "metadata": {},
   "outputs": [],
   "source": [
    "##Predicting the test set results and calculating the accuracy\n",
    "y_pred = logreg.predict(X_test)\n",
    "print('Accuracy of logistic regression classifier on test set: {:.2f}'.format(logreg.score(X_test, y_test)))"
   ]
  },
  {
   "cell_type": "code",
   "execution_count": null,
   "id": "secondary-priority",
   "metadata": {},
   "outputs": [],
   "source": [
    "##Confusion Matrix\n",
    "from sklearn.metrics import confusion_matrix\n",
    "confusion_matrix = confusion_matrix(y_test, y_pred)\n",
    "print(confusion_matrix)"
   ]
  },
  {
   "cell_type": "code",
   "execution_count": null,
   "id": "identical-shoot",
   "metadata": {},
   "outputs": [],
   "source": [
    "#Compute precision, recall, F-measure and support\n",
    "\n",
    "from sklearn.metrics import classification_report\n",
    "print(classification_report(y_test, y_pred))\n"
   ]
  },
  {
   "cell_type": "code",
   "execution_count": null,
   "id": "concerned-polish",
   "metadata": {},
   "outputs": [],
   "source": [
    "##ROC Curve\n",
    "from sklearn.metrics import roc_auc_score\n",
    "from sklearn.metrics import roc_curve\n",
    "logit_roc_auc = roc_auc_score(y_test, logreg.predict(X_test))\n",
    "fpr, tpr, thresholds = roc_curve(y_test, logreg.predict_proba(X_test)[:,1])\n",
    "plt.figure()\n",
    "plt.plot(fpr, tpr, label='Logistic Regression (area = %0.2f)' % logit_roc_auc)\n",
    "plt.plot([0, 1], [0, 1],'r--')\n",
    "plt.xlim([0.0, 1.0])\n",
    "plt.ylim([0.0, 1.05])\n",
    "plt.xlabel('False Positive Rate')\n",
    "plt.ylabel('True Positive Rate')\n",
    "plt.title('Receiver operating characteristic')\n",
    "plt.legend(loc=\"lower right\")\n",
    "plt.savefig('Log_ROC')\n",
    "plt.show()"
   ]
  }
 ],
 "metadata": {
  "kernelspec": {
   "display_name": "Python 3",
   "language": "python",
   "name": "python3"
  },
  "language_info": {
   "codemirror_mode": {
    "name": "ipython",
    "version": 3
   },
   "file_extension": ".py",
   "mimetype": "text/x-python",
   "name": "python",
   "nbconvert_exporter": "python",
   "pygments_lexer": "ipython3",
   "version": "3.9.1"
  },
  "toc-autonumbering": true,
  "toc-showcode": true,
  "toc-showmarkdowntxt": true,
  "toc-showtags": true
 },
 "nbformat": 4,
 "nbformat_minor": 5
}
